{
 "cells": [
  {
   "cell_type": "code",
   "execution_count": 9,
   "id": "cb7de206",
   "metadata": {},
   "outputs": [],
   "source": [
    "import pandas as pd\n",
    "pd.set_option('display.max_columns', None)\n",
    "pd.set_option('display.max_rows', 1000)"
   ]
  },
  {
   "cell_type": "markdown",
   "id": "fce20412",
   "metadata": {},
   "source": [
    "### Importing Navigation Data"
   ]
  },
  {
   "cell_type": "code",
   "execution_count": 10,
   "id": "b095182a",
   "metadata": {
    "scrolled": false
   },
   "outputs": [
    {
     "data": {
      "text/html": [
       "<div>\n",
       "<style scoped>\n",
       "    .dataframe tbody tr th:only-of-type {\n",
       "        vertical-align: middle;\n",
       "    }\n",
       "\n",
       "    .dataframe tbody tr th {\n",
       "        vertical-align: top;\n",
       "    }\n",
       "\n",
       "    .dataframe thead th {\n",
       "        text-align: right;\n",
       "    }\n",
       "</style>\n",
       "<table border=\"1\" class=\"dataframe\">\n",
       "  <thead>\n",
       "    <tr style=\"text-align: right;\">\n",
       "      <th></th>\n",
       "      <th>type</th>\n",
       "      <th>action</th>\n",
       "      <th>event_time</th>\n",
       "      <th>session_id</th>\n",
       "      <th>membership_role</th>\n",
       "      <th>membership_type</th>\n",
       "      <th>event__id</th>\n",
       "      <th>event__type</th>\n",
       "      <th>event__actor_type</th>\n",
       "      <th>event__action</th>\n",
       "      <th>event__object_type</th>\n",
       "      <th>event__object_name</th>\n",
       "      <th>event__object_extensions_asset_type</th>\n",
       "      <th>event__object_extensions_http_method</th>\n",
       "      <th>event__eventTime</th>\n",
       "      <th>event__edApp_type</th>\n",
       "      <th>event__session_type</th>\n",
       "      <th>object_id_type</th>\n",
       "      <th>event__object_id_type</th>\n",
       "      <th>event__attachment_type</th>\n",
       "      <th>object_id</th>\n",
       "      <th>event__object_extensions_asset_name</th>\n",
       "      <th>actor_id</th>\n",
       "    </tr>\n",
       "  </thead>\n",
       "  <tbody>\n",
       "    <tr>\n",
       "      <th>0</th>\n",
       "      <td>NavigationEvent</td>\n",
       "      <td>navigatedto</td>\n",
       "      <td>2033-03-27 03:08:48.947000+00:00</td>\n",
       "      <td>f8eac5633f79de90a77b33338b14dd8e</td>\n",
       "      <td>[\"Learner\"]</td>\n",
       "      <td>Membership</td>\n",
       "      <td>a3bd94baaa440f4793ad08bb64ed3a8f</td>\n",
       "      <td>NavigationEvent</td>\n",
       "      <td>Person</td>\n",
       "      <td>NavigatedTo</td>\n",
       "      <td>Entity</td>\n",
       "      <td>attachment</td>\n",
       "      <td>attachment</td>\n",
       "      <td>GET</td>\n",
       "      <td>2033-03-27 03:08:48.947000+00:00</td>\n",
       "      <td>SoftwareApplication</td>\n",
       "      <td>Session</td>\n",
       "      <td>attachment</td>\n",
       "      <td>attachment</td>\n",
       "      <td>pdf</td>\n",
       "      <td>0878d2f171deae54c6a81acc6ffeba20</td>\n",
       "      <td>file003.pdf</td>\n",
       "      <td>LEARNER_1</td>\n",
       "    </tr>\n",
       "  </tbody>\n",
       "</table>\n",
       "</div>"
      ],
      "text/plain": [
       "              type       action                        event_time  \\\n",
       "0  NavigationEvent  navigatedto  2033-03-27 03:08:48.947000+00:00   \n",
       "\n",
       "                         session_id membership_role membership_type  \\\n",
       "0  f8eac5633f79de90a77b33338b14dd8e     [\"Learner\"]      Membership   \n",
       "\n",
       "                          event__id      event__type event__actor_type  \\\n",
       "0  a3bd94baaa440f4793ad08bb64ed3a8f  NavigationEvent            Person   \n",
       "\n",
       "  event__action event__object_type event__object_name  \\\n",
       "0   NavigatedTo             Entity         attachment   \n",
       "\n",
       "  event__object_extensions_asset_type event__object_extensions_http_method  \\\n",
       "0                          attachment                                  GET   \n",
       "\n",
       "                   event__eventTime    event__edApp_type event__session_type  \\\n",
       "0  2033-03-27 03:08:48.947000+00:00  SoftwareApplication             Session   \n",
       "\n",
       "  object_id_type event__object_id_type event__attachment_type  \\\n",
       "0     attachment            attachment                    pdf   \n",
       "\n",
       "                          object_id event__object_extensions_asset_name  \\\n",
       "0  0878d2f171deae54c6a81acc6ffeba20                         file003.pdf   \n",
       "\n",
       "    actor_id  \n",
       "0  LEARNER_1  "
      ]
     },
     "execution_count": 10,
     "metadata": {},
     "output_type": "execute_result"
    }
   ],
   "source": [
    "nf = pd.read_csv('../data/navigation_events.csv') #importing the navigation data\n",
    "nf.shape\n",
    "nf.head(1)"
   ]
  },
  {
   "cell_type": "markdown",
   "id": "ebe375cf",
   "metadata": {},
   "source": [
    "#### additional data files"
   ]
  },
  {
   "cell_type": "code",
   "execution_count": 11,
   "id": "a2e3d923",
   "metadata": {},
   "outputs": [],
   "source": [
    "assignments = pd.read_csv('../data/additional/assignments.csv')\n",
    "discussion_topics = pd.read_csv('../data/additional/discussion_topics.csv')\n",
    "discussions = pd.read_csv('../data/additional/discussions.csv')\n",
    "enrollments = pd.read_csv('../data/additional/enrollments.csv')\n",
    "files = pd.read_csv('../data/additional/files.csv')\n",
    "gradebook = pd.read_csv('../data/additional/gradebook.csv')\n",
    "module_items = pd.read_csv('../data/additional/module_items.csv')\n",
    "pages = pd.read_csv('../data/additional/pages.csv')"
   ]
  },
  {
   "cell_type": "markdown",
   "id": "c9e240e8",
   "metadata": {},
   "source": [
    "## EDA"
   ]
  },
  {
   "cell_type": "code",
   "execution_count": 12,
   "id": "d1d53d13",
   "metadata": {
    "scrolled": true
   },
   "outputs": [
    {
     "data": {
      "text/plain": [
       "type                                        1\n",
       "action                                      1\n",
       "event_time                              61904\n",
       "session_id                               2259\n",
       "membership_role                             3\n",
       "membership_type                             1\n",
       "event__id                               62839\n",
       "event__type                                 1\n",
       "event__actor_type                           1\n",
       "event__action                               1\n",
       "event__object_type                          4\n",
       "event__object_name                          1\n",
       "event__object_extensions_asset_type         4\n",
       "event__object_extensions_http_method        3\n",
       "event__eventTime                        61904\n",
       "event__edApp_type                           1\n",
       "event__session_type                         1\n",
       "object_id_type                              4\n",
       "event__object_id_type                       4\n",
       "event__attachment_type                      4\n",
       "object_id                                 172\n",
       "event__object_extensions_asset_name       172\n",
       "actor_id                                   62\n",
       "dtype: int64"
      ]
     },
     "execution_count": 12,
     "metadata": {},
     "output_type": "execute_result"
    }
   ],
   "source": [
    "nf.nunique()"
   ]
  },
  {
   "cell_type": "code",
   "execution_count": 13,
   "id": "920ac13b",
   "metadata": {
    "scrolled": true
   },
   "outputs": [
    {
     "data": {
      "text/html": [
       "<div>\n",
       "<style scoped>\n",
       "    .dataframe tbody tr th:only-of-type {\n",
       "        vertical-align: middle;\n",
       "    }\n",
       "\n",
       "    .dataframe tbody tr th {\n",
       "        vertical-align: top;\n",
       "    }\n",
       "\n",
       "    .dataframe thead th {\n",
       "        text-align: right;\n",
       "    }\n",
       "</style>\n",
       "<table border=\"1\" class=\"dataframe\">\n",
       "  <thead>\n",
       "    <tr style=\"text-align: right;\">\n",
       "      <th></th>\n",
       "      <th></th>\n",
       "      <th></th>\n",
       "      <th></th>\n",
       "      <th>0</th>\n",
       "    </tr>\n",
       "    <tr>\n",
       "      <th>event__object_extensions_http_method</th>\n",
       "      <th>membership_role</th>\n",
       "      <th>object_id_type</th>\n",
       "      <th>event__object_id_type</th>\n",
       "      <th></th>\n",
       "    </tr>\n",
       "  </thead>\n",
       "  <tbody>\n",
       "    <tr>\n",
       "      <th rowspan=\"12\" valign=\"top\">GET</th>\n",
       "      <th rowspan=\"4\" valign=\"top\">Null</th>\n",
       "      <th>assignment</th>\n",
       "      <th>assignment</th>\n",
       "      <td>24</td>\n",
       "    </tr>\n",
       "    <tr>\n",
       "      <th>attachment</th>\n",
       "      <th>attachment</th>\n",
       "      <td>162</td>\n",
       "    </tr>\n",
       "    <tr>\n",
       "      <th>discussion</th>\n",
       "      <th>discussion</th>\n",
       "      <td>54</td>\n",
       "    </tr>\n",
       "    <tr>\n",
       "      <th>wikiPage</th>\n",
       "      <th>wikiPage</th>\n",
       "      <td>4443</td>\n",
       "    </tr>\n",
       "    <tr>\n",
       "      <th rowspan=\"4\" valign=\"top\">[\"Instructor\"]</th>\n",
       "      <th>assignment</th>\n",
       "      <th>assignment</th>\n",
       "      <td>93</td>\n",
       "    </tr>\n",
       "    <tr>\n",
       "      <th>attachment</th>\n",
       "      <th>attachment</th>\n",
       "      <td>1842</td>\n",
       "    </tr>\n",
       "    <tr>\n",
       "      <th>discussion</th>\n",
       "      <th>discussion</th>\n",
       "      <td>614</td>\n",
       "    </tr>\n",
       "    <tr>\n",
       "      <th>wikiPage</th>\n",
       "      <th>wikiPage</th>\n",
       "      <td>485</td>\n",
       "    </tr>\n",
       "    <tr>\n",
       "      <th rowspan=\"4\" valign=\"top\">[\"Learner\"]</th>\n",
       "      <th>assignment</th>\n",
       "      <th>assignment</th>\n",
       "      <td>2757</td>\n",
       "    </tr>\n",
       "    <tr>\n",
       "      <th>attachment</th>\n",
       "      <th>attachment</th>\n",
       "      <td>34087</td>\n",
       "    </tr>\n",
       "    <tr>\n",
       "      <th>discussion</th>\n",
       "      <th>discussion</th>\n",
       "      <td>6192</td>\n",
       "    </tr>\n",
       "    <tr>\n",
       "      <th>wikiPage</th>\n",
       "      <th>wikiPage</th>\n",
       "      <td>11669</td>\n",
       "    </tr>\n",
       "    <tr>\n",
       "      <th rowspan=\"5\" valign=\"top\">POST</th>\n",
       "      <th rowspan=\"2\" valign=\"top\">[\"Instructor\"]</th>\n",
       "      <th>discussion</th>\n",
       "      <th>discussion</th>\n",
       "      <td>15</td>\n",
       "    </tr>\n",
       "    <tr>\n",
       "      <th>wikiPage</th>\n",
       "      <th>wikiPage</th>\n",
       "      <td>3</td>\n",
       "    </tr>\n",
       "    <tr>\n",
       "      <th rowspan=\"3\" valign=\"top\">[\"Learner\"]</th>\n",
       "      <th>assignment</th>\n",
       "      <th>assignment</th>\n",
       "      <td>95</td>\n",
       "    </tr>\n",
       "    <tr>\n",
       "      <th>attachment</th>\n",
       "      <th>attachment</th>\n",
       "      <td>88</td>\n",
       "    </tr>\n",
       "    <tr>\n",
       "      <th>discussion</th>\n",
       "      <th>discussion</th>\n",
       "      <td>33</td>\n",
       "    </tr>\n",
       "    <tr>\n",
       "      <th rowspan=\"3\" valign=\"top\">PUT</th>\n",
       "      <th rowspan=\"2\" valign=\"top\">[\"Instructor\"]</th>\n",
       "      <th>discussion</th>\n",
       "      <th>discussion</th>\n",
       "      <td>42</td>\n",
       "    </tr>\n",
       "    <tr>\n",
       "      <th>wikiPage</th>\n",
       "      <th>wikiPage</th>\n",
       "      <td>121</td>\n",
       "    </tr>\n",
       "    <tr>\n",
       "      <th>[\"Learner\"]</th>\n",
       "      <th>wikiPage</th>\n",
       "      <th>wikiPage</th>\n",
       "      <td>20</td>\n",
       "    </tr>\n",
       "  </tbody>\n",
       "</table>\n",
       "</div>"
      ],
      "text/plain": [
       "                                                                                               0\n",
       "event__object_extensions_http_method membership_role object_id_type event__object_id_type       \n",
       "GET                                  Null            assignment     assignment                24\n",
       "                                                     attachment     attachment               162\n",
       "                                                     discussion     discussion                54\n",
       "                                                     wikiPage       wikiPage                4443\n",
       "                                     [\"Instructor\"]  assignment     assignment                93\n",
       "                                                     attachment     attachment              1842\n",
       "                                                     discussion     discussion               614\n",
       "                                                     wikiPage       wikiPage                 485\n",
       "                                     [\"Learner\"]     assignment     assignment              2757\n",
       "                                                     attachment     attachment             34087\n",
       "                                                     discussion     discussion              6192\n",
       "                                                     wikiPage       wikiPage               11669\n",
       "POST                                 [\"Instructor\"]  discussion     discussion                15\n",
       "                                                     wikiPage       wikiPage                   3\n",
       "                                     [\"Learner\"]     assignment     assignment                95\n",
       "                                                     attachment     attachment                88\n",
       "                                                     discussion     discussion                33\n",
       "PUT                                  [\"Instructor\"]  discussion     discussion                42\n",
       "                                                     wikiPage       wikiPage                 121\n",
       "                                     [\"Learner\"]     wikiPage       wikiPage                  20"
      ]
     },
     "execution_count": 13,
     "metadata": {},
     "output_type": "execute_result"
    }
   ],
   "source": [
    "nf.astype(str).groupby(['event__object_extensions_http_method','membership_role','object_id_type','event__object_id_type']).size().to_frame()"
   ]
  },
  {
   "cell_type": "code",
   "execution_count": 14,
   "id": "f1e9ccd3",
   "metadata": {
    "scrolled": true
   },
   "outputs": [
    {
     "data": {
      "text/plain": [
       "('2033-01-02 16:47:19.035000+00:00', '2033-06-15 19:38:36.185000+00:00')"
      ]
     },
     "execution_count": 14,
     "metadata": {},
     "output_type": "execute_result"
    }
   ],
   "source": [
    "nf['event_time'].min(),nf['event_time'].max()"
   ]
  },
  {
   "cell_type": "code",
   "execution_count": 15,
   "id": "d75a7ea6",
   "metadata": {},
   "outputs": [
    {
     "data": {
      "text/plain": [
       "GET     62422\n",
       "POST      234\n",
       "PUT       183\n",
       "Name: event__object_extensions_http_method, dtype: int64"
      ]
     },
     "execution_count": 15,
     "metadata": {},
     "output_type": "execute_result"
    }
   ],
   "source": [
    "nf['event__object_extensions_http_method'].value_counts(dropna=False)"
   ]
  },
  {
   "cell_type": "code",
   "execution_count": 16,
   "id": "95a1d0c6",
   "metadata": {
    "scrolled": false
   },
   "outputs": [
    {
     "data": {
      "text/plain": [
       "[\"Learner\"]       54941\n",
       "Null               4683\n",
       "[\"Instructor\"]     3215\n",
       "Name: membership_role, dtype: int64"
      ]
     },
     "execution_count": 16,
     "metadata": {},
     "output_type": "execute_result"
    }
   ],
   "source": [
    "nf['membership_role'].value_counts()"
   ]
  },
  {
   "cell_type": "code",
   "execution_count": 17,
   "id": "bd241aa7",
   "metadata": {
    "scrolled": true
   },
   "outputs": [
    {
     "data": {
      "text/html": [
       "<div>\n",
       "<style scoped>\n",
       "    .dataframe tbody tr th:only-of-type {\n",
       "        vertical-align: middle;\n",
       "    }\n",
       "\n",
       "    .dataframe tbody tr th {\n",
       "        vertical-align: top;\n",
       "    }\n",
       "\n",
       "    .dataframe thead th {\n",
       "        text-align: right;\n",
       "    }\n",
       "</style>\n",
       "<table border=\"1\" class=\"dataframe\">\n",
       "  <thead>\n",
       "    <tr style=\"text-align: right;\">\n",
       "      <th></th>\n",
       "      <th></th>\n",
       "      <th>0</th>\n",
       "    </tr>\n",
       "    <tr>\n",
       "      <th>module_name</th>\n",
       "      <th>type</th>\n",
       "      <th></th>\n",
       "    </tr>\n",
       "  </thead>\n",
       "  <tbody>\n",
       "    <tr>\n",
       "      <th>Course information</th>\n",
       "      <th>Page</th>\n",
       "      <td>15</td>\n",
       "    </tr>\n",
       "    <tr>\n",
       "      <th rowspan=\"3\" valign=\"top\">Module 1: Understanding eLearning (two weeks long)</th>\n",
       "      <th>Assignment</th>\n",
       "      <td>1</td>\n",
       "    </tr>\n",
       "    <tr>\n",
       "      <th>Discussion</th>\n",
       "      <td>2</td>\n",
       "    </tr>\n",
       "    <tr>\n",
       "      <th>Page</th>\n",
       "      <td>11</td>\n",
       "    </tr>\n",
       "    <tr>\n",
       "      <th rowspan=\"3\" valign=\"top\">Module 2: eLearning readiness (two weeks long)</th>\n",
       "      <th>Assignment</th>\n",
       "      <td>1</td>\n",
       "    </tr>\n",
       "    <tr>\n",
       "      <th>Discussion</th>\n",
       "      <td>3</td>\n",
       "    </tr>\n",
       "    <tr>\n",
       "      <th>Page</th>\n",
       "      <td>12</td>\n",
       "    </tr>\n",
       "    <tr>\n",
       "      <th rowspan=\"3\" valign=\"top\">Module 3: Institutional organization and support (one week long)</th>\n",
       "      <th>Assignment</th>\n",
       "      <td>1</td>\n",
       "    </tr>\n",
       "    <tr>\n",
       "      <th>Discussion</th>\n",
       "      <td>1</td>\n",
       "    </tr>\n",
       "    <tr>\n",
       "      <th>Page</th>\n",
       "      <td>8</td>\n",
       "    </tr>\n",
       "    <tr>\n",
       "      <th rowspan=\"3\" valign=\"top\">Module 4: Institutional planning for eLearning (two weeks long)</th>\n",
       "      <th>Assignment</th>\n",
       "      <td>1</td>\n",
       "    </tr>\n",
       "    <tr>\n",
       "      <th>Discussion</th>\n",
       "      <td>2</td>\n",
       "    </tr>\n",
       "    <tr>\n",
       "      <th>Page</th>\n",
       "      <td>8</td>\n",
       "    </tr>\n",
       "    <tr>\n",
       "      <th rowspan=\"2\" valign=\"top\">Module 5: Government planning for eLearning (two weeks long)</th>\n",
       "      <th>Discussion</th>\n",
       "      <td>2</td>\n",
       "    </tr>\n",
       "    <tr>\n",
       "      <th>Page</th>\n",
       "      <td>11</td>\n",
       "    </tr>\n",
       "    <tr>\n",
       "      <th rowspan=\"2\" valign=\"top\">Module 6: Implementing eLearning (two weeks long)</th>\n",
       "      <th>Discussion</th>\n",
       "      <td>2</td>\n",
       "    </tr>\n",
       "    <tr>\n",
       "      <th>Page</th>\n",
       "      <td>10</td>\n",
       "    </tr>\n",
       "    <tr>\n",
       "      <th rowspan=\"2\" valign=\"top\">Week 1: Getting started</th>\n",
       "      <th>Discussion</th>\n",
       "      <td>1</td>\n",
       "    </tr>\n",
       "    <tr>\n",
       "      <th>Page</th>\n",
       "      <td>4</td>\n",
       "    </tr>\n",
       "  </tbody>\n",
       "</table>\n",
       "</div>"
      ],
      "text/plain": [
       "                                                                0\n",
       "module_name                                        type          \n",
       "Course information                                 Page        15\n",
       "Module 1: Understanding eLearning (two weeks long) Assignment   1\n",
       "                                                   Discussion   2\n",
       "                                                   Page        11\n",
       "Module 2: eLearning readiness (two weeks long)     Assignment   1\n",
       "                                                   Discussion   3\n",
       "                                                   Page        12\n",
       "Module 3: Institutional organization and suppor... Assignment   1\n",
       "                                                   Discussion   1\n",
       "                                                   Page         8\n",
       "Module 4: Institutional planning for eLearning ... Assignment   1\n",
       "                                                   Discussion   2\n",
       "                                                   Page         8\n",
       "Module 5: Government planning for eLearning (tw... Discussion   2\n",
       "                                                   Page        11\n",
       "Module 6: Implementing eLearning (two weeks long)  Discussion   2\n",
       "                                                   Page        10\n",
       "Week 1: Getting started                            Discussion   1\n",
       "                                                   Page         4"
      ]
     },
     "execution_count": 17,
     "metadata": {},
     "output_type": "execute_result"
    }
   ],
   "source": [
    "module_items.groupby(['module_name','type']).size().to_frame()"
   ]
  },
  {
   "cell_type": "code",
   "execution_count": 18,
   "id": "bec111e7",
   "metadata": {},
   "outputs": [
    {
     "data": {
      "text/plain": [
       "Page          79\n",
       "Discussion    13\n",
       "Assignment     4\n",
       "Name: type, dtype: int64"
      ]
     },
     "execution_count": 18,
     "metadata": {},
     "output_type": "execute_result"
    }
   ],
   "source": [
    "module_items['type'].value_counts()"
   ]
  },
  {
   "cell_type": "code",
   "execution_count": 19,
   "id": "a76de9b7",
   "metadata": {
    "scrolled": true
   },
   "outputs": [],
   "source": [
    "gradebook = gradebook.drop([0,1]) #dropping rows with non-numeric data"
   ]
  },
  {
   "cell_type": "markdown",
   "id": "46eb0ea6",
   "metadata": {},
   "source": [
    "### Preparing Discussion level aggregated data (Which discussions were popular?)"
   ]
  },
  {
   "cell_type": "code",
   "execution_count": 20,
   "id": "94b5378e",
   "metadata": {
    "scrolled": true
   },
   "outputs": [],
   "source": [
    "d_level = discussions[discussions['actor_id'].str.contains('LEARNER')].groupby(['discussion_topic_id','discussion_topic_title','discussion_topic_message_length']).agg({'post_message_length':'sum','actor_id':'nunique','post_id':'nunique', 'count_of_likes':'sum'}).reset_index()\n",
    "\n",
    "d_level = d_level.rename(columns = {'actor_id':'Student Participation','post_message_length':'Content Volume','post_id':'Total Posts', 'count_of_likes':'Total Likes'})"
   ]
  },
  {
   "cell_type": "code",
   "execution_count": 21,
   "id": "6f503ebc",
   "metadata": {
    "scrolled": false
   },
   "outputs": [],
   "source": [
    "d_level.to_csv('../data/final data/discussion_level.csv',index=False)"
   ]
  },
  {
   "cell_type": "markdown",
   "id": "f9f27585",
   "metadata": {},
   "source": [
    "### Preparing Learner level aggregaged data (Student Grades, Participation and Engagement Metrics)"
   ]
  },
  {
   "cell_type": "code",
   "execution_count": 22,
   "id": "f3b78a3b",
   "metadata": {
    "scrolled": false
   },
   "outputs": [
    {
     "data": {
      "text/html": [
       "<div>\n",
       "<style scoped>\n",
       "    .dataframe tbody tr th:only-of-type {\n",
       "        vertical-align: middle;\n",
       "    }\n",
       "\n",
       "    .dataframe tbody tr th {\n",
       "        vertical-align: top;\n",
       "    }\n",
       "\n",
       "    .dataframe thead th {\n",
       "        text-align: right;\n",
       "    }\n",
       "</style>\n",
       "<table border=\"1\" class=\"dataframe\">\n",
       "  <thead>\n",
       "    <tr style=\"text-align: right;\">\n",
       "      <th></th>\n",
       "      <th>Student</th>\n",
       "      <th>Discussions Participated In</th>\n",
       "      <th>Total Posts</th>\n",
       "      <th>Content Volume</th>\n",
       "      <th>Total Likes</th>\n",
       "    </tr>\n",
       "  </thead>\n",
       "  <tbody>\n",
       "    <tr>\n",
       "      <th>0</th>\n",
       "      <td>LEARNER_1</td>\n",
       "      <td>10</td>\n",
       "      <td>14</td>\n",
       "      <td>33617</td>\n",
       "      <td>3</td>\n",
       "    </tr>\n",
       "  </tbody>\n",
       "</table>\n",
       "</div>"
      ],
      "text/plain": [
       "     Student  Discussions Participated In  Total Posts  Content Volume  \\\n",
       "0  LEARNER_1                           10           14           33617   \n",
       "\n",
       "   Total Likes  \n",
       "0            3  "
      ]
     },
     "execution_count": 22,
     "metadata": {},
     "output_type": "execute_result"
    }
   ],
   "source": [
    "l_level = discussions[discussions['actor_id'].str.contains('LEARNER')].groupby('actor_id').agg({'discussion_topic_id':'nunique','post_id':'nunique','post_message_length':'sum','count_of_likes':'sum'})\n",
    "l_level = l_level.reset_index()\n",
    "l_level.columns = ['Student','Discussions Participated In','Total Posts','Content Volume','Total Likes']\n",
    "l_level.head(1)"
   ]
  },
  {
   "cell_type": "code",
   "execution_count": 23,
   "id": "d5830545",
   "metadata": {},
   "outputs": [],
   "source": [
    "enrollments_ = enrollments.groupby(['user_id']).agg({'last_activity_at':'max','total_activity_time':'sum'}).reset_index()\n",
    "enrollments_.columns = ['Student','Last Activity Time','Total Activity Time']"
   ]
  },
  {
   "cell_type": "code",
   "execution_count": 24,
   "id": "1573f97a",
   "metadata": {
    "scrolled": true
   },
   "outputs": [],
   "source": [
    "learner_level_combined = gradebook.merge(l_level,on = 'Student', how = 'left').merge(enrollments_,on='Student',how='left')"
   ]
  },
  {
   "cell_type": "code",
   "execution_count": 25,
   "id": "5d0dd6b1",
   "metadata": {},
   "outputs": [],
   "source": [
    "learner_level_combined['Total Activity Time (Hrs)'] = round(learner_level_combined['Total Activity Time']/3600.0)"
   ]
  },
  {
   "cell_type": "code",
   "execution_count": 26,
   "id": "a1021631",
   "metadata": {},
   "outputs": [],
   "source": [
    "learner_level_combined.to_csv('../data/final data/learner_level_data.csv',index=False)"
   ]
  },
  {
   "cell_type": "markdown",
   "id": "68680fc0",
   "metadata": {},
   "source": [
    "### Preparing Page level aggregaged data (Which Pages were most popular?)"
   ]
  },
  {
   "cell_type": "code",
   "execution_count": 27,
   "id": "a54c9b61",
   "metadata": {},
   "outputs": [],
   "source": [
    "wikiPage_level = nf[(nf['event__object_extensions_http_method']=='GET') & (nf['membership_role']=='[\"Learner\"]') & (nf['object_id_type']=='wikiPage')].groupby(['event__object_extensions_asset_name']).agg({'actor_id':'nunique','event__id':'count'}).reset_index()"
   ]
  },
  {
   "cell_type": "code",
   "execution_count": 28,
   "id": "17444d1a",
   "metadata": {},
   "outputs": [],
   "source": [
    "wikiPage_level.columns = ['Page Name','No. of Students Visited','Page Views']"
   ]
  },
  {
   "cell_type": "code",
   "execution_count": 29,
   "id": "0c16669f",
   "metadata": {},
   "outputs": [],
   "source": [
    "wikiPage_level.to_csv('../data/final data/wikiPage_level.csv',index=False)"
   ]
  }
 ],
 "metadata": {
  "kernelspec": {
   "display_name": "Python 3.9.12 ('base')",
   "language": "python",
   "name": "python3"
  },
  "language_info": {
   "codemirror_mode": {
    "name": "ipython",
    "version": 3
   },
   "file_extension": ".py",
   "mimetype": "text/x-python",
   "name": "python",
   "nbconvert_exporter": "python",
   "pygments_lexer": "ipython3",
   "version": "3.9.12"
  },
  "vscode": {
   "interpreter": {
    "hash": "73904318cac67333e4851326f49bc6ae27acd4b837f95fc89d319e2b90811f29"
   }
  }
 },
 "nbformat": 4,
 "nbformat_minor": 5
}
