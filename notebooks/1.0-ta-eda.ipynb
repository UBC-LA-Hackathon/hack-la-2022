{
 "cells": [
  {
   "cell_type": "code",
   "execution_count": null,
   "metadata": {
    "slideshow": {
     "slide_type": "skip"
    }
   },
   "outputs": [],
   "source": [
    "import os\n",
    "import sys\n",
    "import pandas as pd\n",
    "import datetime as dt\n",
    "\n",
    "import panel as pn\n",
    "from panel.interact import interact\n",
    "import altair as alt\n",
    "alt.data_transformers.enable('data_server')\n",
    "alt.renderers.enable('mimetype')\n",
    "\n",
    "src_path = os.path.abspath(os.path.join(\"..\"))\n",
    "if src_path not in sys.path:\n",
    "    sys.path.append(src_path)\n",
    "\n",
    "from src.data import navigation_events\n",
    "\n",
    "%load_ext autoreload\n",
    "%autoreload 2"
   ]
  },
  {
   "cell_type": "code",
   "execution_count": null,
   "metadata": {
    "slideshow": {
     "slide_type": "skip"
    }
   },
   "outputs": [],
   "source": [
    "raw_events_df = navigation_events.load_events_data(os.path.join(os.pardir, \"data\", \"navigation_events.csv\"))"
   ]
  },
  {
   "cell_type": "code",
   "execution_count": null,
   "metadata": {},
   "outputs": [],
   "source": [
    "clean_events_df = navigation_events.preprocess_events_data(raw_events_df)"
   ]
  },
  {
   "cell_type": "code",
   "execution_count": null,
   "metadata": {
    "slideshow": {
     "slide_type": "skip"
    }
   },
   "outputs": [],
   "source": [
    "membership_plot = alt.Chart(clean_events_df).mark_bar().encode(\n",
    "    y = \"membership_role\",\n",
    "    x = \"count()\",\n",
    "    color = \"membership_role\",\n",
    "    tooltip = \"membership_role\"\n",
    ").properties(\n",
    "    height = 600,\n",
    "    width = 400\n",
    ")\n",
    "membership_plot"
   ]
  },
  {
   "cell_type": "code",
   "execution_count": null,
   "metadata": {},
   "outputs": [],
   "source": [
    "session_df = navigation_events.group_by_session_data(clean_events_df)"
   ]
  },
  {
   "cell_type": "code",
   "execution_count": null,
   "metadata": {},
   "outputs": [],
   "source": [
    "alt.Chart(session_df).mark_point(clip=True).encode(\n",
    "    x = \"monthdate(session_start):T\",\n",
    "    y = alt.Y(\"sum(discussion_interactions)\", scale = alt.Scale(domain = [0,200])), #scale = alt.Scale(domain = [0,5000],\n",
    "    # color = \"student\",\n",
    "    # tooltip = \"student\"\n",
    ").properties(\n",
    "    width = 1200,\n",
    ")"
   ]
  },
  {
   "cell_type": "markdown",
   "metadata": {},
   "source": []
  },
  {
   "cell_type": "code",
   "execution_count": null,
   "metadata": {},
   "outputs": [],
   "source": [
    "start_date =  pd.Timestamp(2033, 2,25)\n",
    "end_date =  pd.Timestamp(2033, 3,25)\n",
    "\n",
    "start_date =  dt.date(2033, 2,25)\n",
    "end_date =  dt.date(2033, 3,25)\n",
    "\n",
    "user_summary_df = navigation_events.timeframe_event_summary(session_df, start_date, end_date)"
   ]
  },
  {
   "cell_type": "code",
   "execution_count": null,
   "metadata": {},
   "outputs": [],
   "source": [
    "user_summary_df.head()"
   ]
  },
  {
   "cell_type": "code",
   "execution_count": null,
   "metadata": {},
   "outputs": [],
   "source": [
    "perc_columns = user_summary_df.columns[user_summary_df.columns.str.contains(\"__perc\")]\n",
    "\n",
    "def bar_plot(x_col, df = user_summary_df):\n",
    "    # Plot the sorted and filtered data frame\n",
    "    # chart = alt.Chart(df).mark_point().encode(\n",
    "    #     x='Horsepower',\n",
    "    #     y=y_col)\n",
    "    # return chart\n",
    "    plot = alt.Chart(df).mark_bar().encode(\n",
    "        x = x_col,\n",
    "        y = alt.Y(\"student\", sort = \"y\"),\n",
    "        color  =\"student\"\n",
    "    ).properties(\n",
    "        height = 500,\n",
    "        width = 500\n",
    "    )\n",
    "\n",
    "    return plot\n",
    "\n",
    "# Add dropdown menus\n",
    "interact(bar_plot, x_col=perc_columns).embed(max_opts=100)"
   ]
  },
  {
   "cell_type": "code",
   "execution_count": null,
   "metadata": {},
   "outputs": [],
   "source": [
    "students = sorted(user_summary_df['student'].unique())\n",
    "dropdown = alt.binding_select(options=students)\n",
    "\n",
    "# pn.extension('vega')\n",
    "\n",
    "select_student = alt.selection_single(\n",
    "    fields=['student'],\n",
    "    bind=dropdown)\n",
    "\n",
    "alt.Chart(user_summary_df).mark_bar().encode(\n",
    "    x = alt.condition(select_student, \"avg_percentile\", alt.value(0.1)),\n",
    "    y = alt.Y(\"student\", sort = \"-x\"),\n",
    "    opacity=alt.condition(select_student, alt.value(0.9), alt.value(0.1))\n",
    ").properties(\n",
    "    height = 500,\n",
    "    width = 500\n",
    ").add_selection(select_student)"
   ]
  },
  {
   "cell_type": "code",
   "execution_count": null,
   "metadata": {},
   "outputs": [],
   "source": []
  }
 ],
 "metadata": {
  "kernelspec": {
   "display_name": "Python 3.10.6 ('571')",
   "language": "python",
   "name": "python3"
  },
  "language_info": {
   "codemirror_mode": {
    "name": "ipython",
    "version": 3
   },
   "file_extension": ".py",
   "mimetype": "text/x-python",
   "name": "python",
   "nbconvert_exporter": "python",
   "pygments_lexer": "ipython3",
   "version": "3.10.6"
  },
  "orig_nbformat": 4,
  "vscode": {
   "interpreter": {
    "hash": "ae43218c754837a2d78ff7a43ae82413f49de40590b9d5e106a36d37bd1f97ed"
   }
  }
 },
 "nbformat": 4,
 "nbformat_minor": 2
}
