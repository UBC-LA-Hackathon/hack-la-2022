{
 "cells": [
  {
   "cell_type": "code",
   "execution_count": 1,
   "metadata": {},
   "outputs": [],
   "source": [
    "import math\n",
    "import numpy as np\n",
    "import matplotlib.pyplot as plt\n",
    "import pandas as pd\n",
    "import time\n",
    "import pprint\n",
    "import urllib\n",
    "import requests\n",
    "import bs4\n",
    "import json\n",
    "import string\n",
    "import nltk\n",
    "import pickle\n",
    "from wordcloud import WordCloud\n",
    "from textblob import TextBlob\n",
    "import uuid\n",
    "from collections import Counter\n",
    "\n",
    "%matplotlib inline"
   ]
  },
  {
   "cell_type": "code",
   "execution_count": 6,
   "metadata": {},
   "outputs": [],
   "source": [
    "navigation_events = pd.read_csv(\"data/navigation_events.csv\")\n",
    "assignments = pd.read_csv(\"data/additional/assignments.csv\")\n",
    "discussion_topics = pd.read_csv(\"data/additional/discussion_topics.csv\")\n",
    "discussions = pd.read_csv(\"data/additional/discussions.csv\")\n",
    "enrollments = pd.read_csv(\"data/additional/enrollments.csv\") \n",
    "files = pd.read_csv(\"data/additional/files.csv\") \n",
    "gradebook = pd.read_csv(\"data/additional/gradebook.csv\") \n",
    "module_items = pd.read_csv(\"data/additional/module_items.csv\") \n",
    "pages = pd.read_csv(\"data/additional/pages.csv\")"
   ]
  }
 ],
 "metadata": {
  "kernelspec": {
   "display_name": "Python 3.9.12 ('base')",
   "language": "python",
   "name": "python3"
  },
  "language_info": {
   "codemirror_mode": {
    "name": "ipython",
    "version": 3
   },
   "file_extension": ".py",
   "mimetype": "text/x-python",
   "name": "python",
   "nbconvert_exporter": "python",
   "pygments_lexer": "ipython3",
   "version": "3.9.12"
  },
  "orig_nbformat": 4,
  "vscode": {
   "interpreter": {
    "hash": "73904318cac67333e4851326f49bc6ae27acd4b837f95fc89d319e2b90811f29"
   }
  }
 },
 "nbformat": 4,
 "nbformat_minor": 2
}
